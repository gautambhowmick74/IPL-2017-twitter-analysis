{
 "cells": [
  {
   "cell_type": "markdown",
   "metadata": {},
   "source": [
    "# Final Project"
   ]
  },
  {
   "cell_type": "code",
   "execution_count": 10,
   "metadata": {
    "collapsed": false
   },
   "outputs": [],
   "source": [
    "import os\n",
    "import json\n",
    "import time\n",
    "import tweepy\n",
    "from tweepy import OAuthHandler\n",
    "from tweepy import Stream\n",
    "from tweepy.streaming import StreamListener\n",
    "\n",
    "try:\n",
    "    consumer_key = 'uQ9FRsAAUMuJysilmgxq5VlMS'\n",
    "    consumer_secret = 'gMLbtAIzDusabJ3zmaIuoXDYlbnPau6fqSkwjLdkSRdOCwa4a8'\n",
    "    access_token = '784558015030632448-NHHZm5u67bRRMie9q3qkWHSPytrcRXu'\n",
    "    access_secret = 'Fu5lFvFktrNe2k364q6xocV2lUEUcfwuXWau2qQS3Xuop'\n",
    "\n",
    "    auth = OAuthHandler(consumer_key, consumer_secret)\n",
    "    auth.set_access_token(access_token, access_secret)\n",
    "\n",
    "    api = tweepy.API(auth)\n",
    "except:\n",
    "    print(\"Error: Authentication Failed\")\n",
    "    \n",
    "#The Streaming API    \n",
    "start_time = time.time() #grabs the system time\n",
    "keyword_list = ['#RoyalChallengers','#GujratLions'] #track list\n",
    "#Listner Class Override\n",
    "class listener(StreamListener):\n",
    "    \n",
    "    def __init__(self, start_time, time_limit=60):\n",
    "        self.time = start_time\n",
    "        self.limit = time_limit\n",
    "        self.tweet_data = []\n",
    "        \n",
    "    def on_data(self, data):\n",
    "        saveFile = open('raw_tweets_static.json', 'a+', encoding='utf-8')\n",
    "        while (time.time() - self.time) < self.limit:\n",
    "            try:\n",
    "                self.tweet_data.append(data)\n",
    "                return True\n",
    "            except BaseException as e:\n",
    "                print('failed ondata', str(e))\n",
    "                time.sleep(5)\n",
    "                pass\n",
    "        saveFile = open('raw_tweets_live.json', 'w', encoding='utf-8')\n",
    "        saveFile.write(u'[\\n')\n",
    "        saveFile.write(','.join(self.tweet_data))\n",
    "        saveFile.write(u'\\n]')\n",
    "        saveFile.close()\n",
    "        exit()\n",
    "    def on_error(self, status):\n",
    "        print (status)\n",
    "        return True\n",
    "        \n",
    "twitterStream = Stream(auth, listener(start_time, time_limit=30))#initialize Stream object with a time out limit\n",
    "twitterStream.filter(track=keyword_list,languages=['en']) #call the filter method to run the Stream Object\n",
    "\n",
    "#REST tweepy API\n",
    "def process_or_store(tweet):\n",
    "    with open('raw_tweets_static.json', 'a+',encoding='utf-8') as f:\n",
    "        f.write(json.dumps(tweet))\n",
    "        f.write(\"\\n\")\n",
    "        f.close()\n",
    "        \n",
    "for tweet in tweepy.Cursor(api.search, since='2017-04-22', until='2017-04-28', q='GujratLions',language=['en']).items(1000):\n",
    "       process_or_store(tweet._json) \n",
    "       "
   ]
  },
  {
   "cell_type": "code",
   "execution_count": null,
   "metadata": {
    "collapsed": true
   },
   "outputs": [],
   "source": []
  }
 ],
 "metadata": {
  "anaconda-cloud": {},
  "kernelspec": {
   "display_name": "Python [default]",
   "language": "python",
   "name": "python3"
  },
  "language_info": {
   "codemirror_mode": {
    "name": "ipython",
    "version": 3
   },
   "file_extension": ".py",
   "mimetype": "text/x-python",
   "name": "python",
   "nbconvert_exporter": "python",
   "pygments_lexer": "ipython3",
   "version": "3.5.2"
  }
 },
 "nbformat": 4,
 "nbformat_minor": 2
}
